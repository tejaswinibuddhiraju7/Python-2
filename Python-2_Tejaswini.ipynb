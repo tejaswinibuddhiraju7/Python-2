{
 "cells": [
  {
   "cell_type": "markdown",
   "metadata": {},
   "source": [
    "Write a program which accepts a sequence of comma-separated numbers from console and\n",
    "generate a list."
   ]
  },
  {
   "cell_type": "code",
   "execution_count": 1,
   "metadata": {},
   "outputs": [
    {
     "name": "stdout",
     "output_type": "stream",
     "text": [
      "Please enter the numbers:-12,34,96,78,45,65,78\n",
      "[-12, 34, 96, 78, 45, 65, 78]\n"
     ]
    }
   ],
   "source": [
    "#Please enter the numbers\n",
    "numbers = input(\"Please enter the numbers:\")\n",
    "#Creating an empty list to store numbers\n",
    "x = []\n",
    "#Split the numbers using comma seperator\n",
    "for num in numbers.split(sep=','):\n",
    "    x.append(int(num))\n",
    "print(x)"
   ]
  },
  {
   "cell_type": "markdown",
   "metadata": {},
   "source": [
    "Create the below pattern using nested for loop in Python."
   ]
  },
  {
   "cell_type": "code",
   "execution_count": 3,
   "metadata": {},
   "outputs": [
    {
     "name": "stdout",
     "output_type": "stream",
     "text": [
      "*\n",
      "**\n",
      "***\n",
      "****\n",
      "*****\n",
      "****\n",
      "***\n",
      "**\n",
      "*\n"
     ]
    }
   ],
   "source": [
    "for i in range(1,6):\n",
    "    for k in range(i):\n",
    "        print('*',end='')\n",
    "    print()\n",
    "for i in range(4,0,-1):\n",
    "    for k in range(i):\n",
    "        print('*',end='')\n",
    "    print()"
   ]
  },
  {
   "cell_type": "markdown",
   "metadata": {},
   "source": [
    "Write a Python program to reverse a word after accepting the input from the user."
   ]
  },
  {
   "cell_type": "code",
   "execution_count": 4,
   "metadata": {},
   "outputs": [
    {
     "name": "stdout",
     "output_type": "stream",
     "text": [
      "Please enter your word:AcadGild\n",
      "Reversed word is: dliGdacA\n"
     ]
    }
   ],
   "source": [
    "#Please enter your string\n",
    "word = input(\"Please enter your word:\")\n",
    "print(\"Reversed word is: \"+word[::-1])"
   ]
  },
  {
   "cell_type": "markdown",
   "metadata": {},
   "source": [
    "Write a Python Program to print the given string in the format specified in the sample\n",
    "output."
   ]
  },
  {
   "cell_type": "code",
   "execution_count": 5,
   "metadata": {},
   "outputs": [
    {
     "name": "stdout",
     "output_type": "stream",
     "text": [
      "\tWE, THE PEOPLE OF INDIA, having solemnly resolved to constitute India\n",
      "\t\tinto a SOVEREIGN, SOCIALIST, SECULAR, DEMOCRATIC REPUBLIC and to\n",
      "\t\tsecure to all its citizens\n"
     ]
    }
   ],
   "source": [
    "import textwrap\n",
    "sentence = \"\"\"WE, THE PEOPLE OF INDIA, having solemnly resolved to constitute India into a SOVEREIGN,\n",
    "SOCIALIST, SECULAR, DEMOCRATIC REPUBLIC and to secure to all its citizens\"\"\"\n",
    "print(textwrap.fill(sentence,initial_indent='\\t',subsequent_indent='\\t\\t'))"
   ]
  },
  {
   "cell_type": "code",
   "execution_count": null,
   "metadata": {
    "collapsed": true
   },
   "outputs": [],
   "source": []
  }
 ],
 "metadata": {
  "kernelspec": {
   "display_name": "Python 3",
   "language": "python",
   "name": "python3"
  },
  "language_info": {
   "codemirror_mode": {
    "name": "ipython",
    "version": 3
   },
   "file_extension": ".py",
   "mimetype": "text/x-python",
   "name": "python",
   "nbconvert_exporter": "python",
   "pygments_lexer": "ipython3",
   "version": "3.6.2"
  }
 },
 "nbformat": 4,
 "nbformat_minor": 2
}
